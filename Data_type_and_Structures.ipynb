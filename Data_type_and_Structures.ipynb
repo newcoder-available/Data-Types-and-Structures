{
  "nbformat": 4,
  "nbformat_minor": 0,
  "metadata": {
    "colab": {
      "provenance": []
    },
    "kernelspec": {
      "name": "python3",
      "display_name": "Python 3"
    },
    "language_info": {
      "name": "python"
    }
  },
  "cells": [
    {
      "cell_type": "code",
      "execution_count": null,
      "metadata": {
        "id": "JIVVMLGuZ3oV"
      },
      "outputs": [],
      "source": []
    },
    {
      "cell_type": "markdown",
      "source": [
        "1. What are data structures, and why are they important ?\n",
        "\n",
        "   --> Data structures are the basic building blocks of computer programming.It is a way to store the data in a computing devices so that it can accessed and updated efficienlty.\n",
        "   They define\n",
        "   :How data is organized,\n",
        "   :Stored, and manipulated within a program.\n",
        "   \n",
        "   For developing efficient and effective algorithms\n",
        "\n",
        "2. Explain the difference between mutable and immutable data types with examples?\n",
        "\n",
        "   --> Mutable data type can be modified after the value creation or assignment.\n",
        "\n",
        "   Example:\n",
        "        my_set = {1, 2, 3}\n",
        "        my_set.add(4)     // Add an element\n",
        "        my_set.remove(2)  // Remove an element\n",
        "        print(my_set)     // Output: {1, 3, 4}\n",
        "\n",
        "     --> Immutable data can not be chnaged once created\n",
        "\n",
        "    Example\n",
        "        my_int = 5\n",
        "        my_int = 6  // This creates a new integer, not modifies the old one\n",
        "        new_int = my_int + 1\n",
        "        print(new_int)  # Output: 6\n",
        "\n",
        "  3. What are the main differences between lists and tuples in Python?\n",
        "  \n",
        "     -->  Lists and tuples both store collections of data, but differ in mutability, performance and memory usage.\n",
        "     Lists are mutable allowing modification, while tuples are immutable.\n",
        "     \n",
        "     Lists are better for performing operations, such as insertion and deletion while,Tuples are more suitable for accessing elements efficiently.\n",
        "     Lists conusme more memoroy, while tuple consume less memory.\n",
        "\n",
        "  4. Describe how dictionaries store data.\n",
        "  \n",
        "     --> Dictionaries are unordered collections of data and are represented with curly brackets {}. Since dictionary is a data structure that stores the value in key: value pairs.\n",
        "\n",
        "     Values in a dictionary can be of any data type and can be duplicated, whereas keys can not be repeated and must be immutable.\n",
        "\n",
        "     Example:\n",
        "\n",
        "     a= { 1: Ram, 2:Shyam, 3: Sonu }\n",
        "     print(a)\n",
        "     { 1: Ram, 2:Shyam, 3: Sonu } # Output\n",
        "\n",
        "\n",
        "  5. Why might you use a set instead of a list in Python ?\n",
        "  \n",
        "     --> using of Set instead of a list, beacause of Uniqueness feature of set function i.e; The values in a set are unique because there cannot be any duplicates.\n",
        "     If the goal is to store only distinct values, a set automatically handles duplicate removal.\n",
        "\n",
        "     - Use when you need to ensure all elements are unique.\n",
        "     - Suitable for membership testing and eliminating duplicates.\n",
        "     - Ideal for mathematical set operations like union, intersection, and\n",
        "       difference.\n",
        "\n",
        "   6. What is a string in Python, and how is it different from a list ?\n",
        "   \n",
        "      --> A list is a collection of items that can be of any data type and can be modified (mutable).\n",
        "      Lists are represented by square brackets and can contain multiple elements separated by commas. On the other hand,\n",
        "      a string is a sequence of characters enclosed in single or double quotes.\n",
        "      \n",
        "      Strings are immutable, meaning their values cannot be changed once they are created.\n",
        "\n",
        "   7. How do tuples ensure data integrity in Python?\n",
        "      \n",
        "      --> Tuples in Python ensure data integrity through their immutability.\n",
        "\n",
        "     Once a tuple is created, its contents cannot be modified, which means you cannot change, add, or remove elements.This immutability makes tuples a reliable choice for storing fixed collections of data.\n",
        "     \n",
        "   8. What is a hash table, and how does it relate to dictionaries in\n",
        "     Python?\n",
        "     \n",
        "     --> A hash table is a data structure that offers an efficient way to organize data for quick access. A key is transformed into an index { this process is know hashing} of an array element where the corresponding value is stored.\n",
        "\n",
        "     In Python, dictionaries are implemented using hash tables.\n",
        "     When a key value pair is added to a dictionary, Python uses a hash function to calculate the index for the key and stores the value at that index.\n",
        "     \n",
        "     When retrieving a value, Python again uses the hash function to find the index of the key and retrieves the corresponding value.\n",
        "     \n",
        "     This implementation makes dictionaries very efficient for lookups, insertions, and deletions, with an average time complexity of O(1) for these operations.\n",
        "     \n",
        "   9. Can lists contain different data types in Python ?\n",
        "  \n",
        "     -->  In Python, lists is very flexible and versatile therefore Yes, lists can hold integers,strings,floats,booleans,and even other lists or more complex objects.\n",
        "\n",
        "10. Explain why strings are immutable in Python?\n",
        "  \n",
        "      --> When we say something is immutable, it means that once it is created, it cannot be changed.\n",
        "      \n",
        "      This concept applies to strings, which means that once a string object is created, its content cannot be changed.\n",
        "      \n",
        "      If we try to change a string,does not modify the original one, it creates a new string object instead.\n",
        "      \n",
        "      This characteristic brings several advantages:\n",
        "      1. Thread Safety\n",
        "      2. Security\n",
        "      3. Increasing Efficiency\n",
        "      \n",
        "  11. What advantages do dictionaries offer over lists for certain tasks?\n",
        "       -->\n",
        "       1 - Dictionaries in Python offer fast data retrieval\n",
        "        Unlike lists where you have to traverse through each element to find a value, dictionaries use hash tables for quick access to values based on keys.\n",
        "\n",
        "       2) Easy to understand key value pairs: Dictionaries consist of key value pairs, making it easier to associate and access relevant data together.\n",
        "\n",
        "       3) Dynamic data structure: Dictionaries in Python are mutable, providing flexibility in managing data.\n",
        "\n",
        "       4) Efficient for storing large amounts of data: Due to its efficient data retrieval mechanism, dictionaries are ideal for storing and accessing large datasets quickly.\n",
        "\n",
        "  12. Describe a scenario where using a tuple would be preferable over a list.\n",
        "  \n",
        "       --> Use a tuple if you need an immutable collection where the elements won't change after creation.\n",
        "\n",
        "       Example: Banking sector, security related command.\n",
        "\n",
        "  13. How do sets handle duplicate values in Python ?\n",
        "  \n",
        "      --> Sets are designed to store only unique elements.\n",
        "\n",
        "      When an attempt is made to add a duplicate value to a set, it is automatically discarded, and the set remains unchanged.\n",
        "      \n",
        "      This behavior ensures that sets always maintain a collection of distinct elements only.\n",
        "      \n",
        "      Example:\n",
        "      \n",
        "      my_set = {1, 2, 2, 3, 4, 4, 5}\n",
        "      \n",
        "      print(my_set) # Expected Output: {1, 2, 3, 4, 5}\n",
        "\n",
        "  14. How does the “in” keyword work differently for lists and dictionaries ?\n",
        "\n",
        "      --> Depending on the type of data, the in keyword behaves differently, although it is used to check for membership in both lists and dictionaries.\n",
        "\n",
        "      For list:\n",
        "      \n",
        "      fruits = ['apple', 'banana', 'cherry']\n",
        "      \n",
        "      print('banana' in fruits)  # Output: True\n",
        "\n",
        "\n",
        "      Result: Linear Peform; The \"In\" keyword checks whether a value exists in the list\n",
        "\n",
        "      For Dictionary:\n",
        "\n",
        "      prices = {'apple': 1.2, 'banana': 0.5}\n",
        "      print('banana' in prices)  # Output: True\n",
        "\n",
        "      Result: The \"In\" keyword checks for the presence of a key, not a value.\n",
        "\n",
        "\n",
        "  15. Can you modify the elements of a tuple? Explain why or why not?\n",
        "\n",
        "     --> No, we can not modify the elements of a tuple in Python.\n",
        "        This is because tuples are immutable, which means that once a tuple is created, its contents ie. elements cannot be changed, added to, or removed.\n",
        "\n",
        "  16. What is a nested dictionary, and give an example of its use case ?\n",
        "      --> A nested dictionary in Python is a dictionary where one or more values are themselves dictionaries.\n",
        "      \n",
        "      This allows you to represent hierarchical or structured data in a natural and flexible way.\n",
        "\n",
        "      students =\n",
        "      {\n",
        "     \"1001\": {\"name\": \"Alice\", \"grade\": \"A\", \"age\": 20},\n",
        "     \"1002\": {\"name\": \"Bob\", \"grade\": \"B\", \"age\": 22},\n",
        "     \"1003\": {\"name\": \"Charlie\", \"grade\": \"A\", \"age\": 21}\n",
        "      }\n",
        "\n",
        "      print(students[\"1002\"][\"name\"])  # Output: Bob\n",
        "      print(students[\"1001\"][\"grade\"]) # Output: A\n",
        "\n",
        "  17. Describe the time complexity of accessing elements in a dictionary?\n",
        "  \n",
        "      --> Accessing elements in an array has a time complexity of O(1), meaning it takes constant time regardless of the size of the array. This is because arrays provide direct access to memory locations based on the index.\n",
        "\n",
        "  18. In what situations are lists preferred over dictionaries?\n",
        "  \n",
        "      --> Lists are preferred over dictionaries in python in situations where ordered,indexed and sequential data is needed.\n",
        "\n",
        "  19. Why are dictionaries considered unordered, and how does that affect\n",
        "      data retrieval?\n",
        "\n",
        "      --> Dictionaries are considered unordered because they don't inherently maintain a specific order of elements based on when they were added.\n",
        "      \n",
        "      This means that when you access or iterate through a dictionary's elements, you won't necessarily get them in the order they were inserted.\n",
        "\n",
        "      How Does This Affect Data Retrieval?\n",
        "      - Accesing Elements\n",
        "      - Impact of Order Preservation\n",
        "\n",
        "  20. Explain the difference between a list and a dictionary in terms of\n",
        "      data retrieval ?\n",
        "\n",
        "      -->\n",
        "      - Use a list for ordered, index-based data.\n",
        "      - Use a dictionary for fast, key-based lookups and labeled data\n",
        "\n",
        "\n"
      ],
      "metadata": {
        "id": "BCAmfA1MZ7nd"
      }
    },
    {
      "cell_type": "code",
      "source": [
        "# Practical Questions"
      ],
      "metadata": {
        "id": "56BR30wEorLb"
      },
      "execution_count": 1,
      "outputs": []
    },
    {
      "cell_type": "code",
      "source": [
        "# 1. Write a code to create a string with your name and print it\n",
        "my_name=\"Prashant Arya\"\n",
        "print(my_name)\n"
      ],
      "metadata": {
        "id": "GTqmCyKnougg",
        "colab": {
          "base_uri": "https://localhost:8080/"
        },
        "outputId": "87a9cdd0-ed84-437d-85cc-0c57b1b57b9d"
      },
      "execution_count": 2,
      "outputs": [
        {
          "output_type": "stream",
          "name": "stdout",
          "text": [
            "Prashant Arya\n"
          ]
        }
      ]
    },
    {
      "cell_type": "code",
      "source": [
        "# 2. Write a code to find the length of the string \"Hello World\" ?\n",
        "a= \"Hello world\"\n",
        "len(a)"
      ],
      "metadata": {
        "colab": {
          "base_uri": "https://localhost:8080/"
        },
        "id": "UA5pqe0Q8SsA",
        "outputId": "c8ba75f3-0c0e-4e96-cc5c-61c55d69ff64"
      },
      "execution_count": 3,
      "outputs": [
        {
          "output_type": "execute_result",
          "data": {
            "text/plain": [
              "11"
            ]
          },
          "metadata": {},
          "execution_count": 3
        }
      ]
    },
    {
      "cell_type": "code",
      "source": [
        "# 3. Write a code to slice the first 3 characters from the string \"Python Programming\"\n",
        "text=\"Python Programming\"\n",
        "text_sliced=text[:3]\n",
        "print(text_sliced)"
      ],
      "metadata": {
        "colab": {
          "base_uri": "https://localhost:8080/"
        },
        "id": "wrljua5a8kgw",
        "outputId": "c9e3394e-f91d-465b-e47c-5a046d9326c7"
      },
      "execution_count": 4,
      "outputs": [
        {
          "output_type": "stream",
          "name": "stdout",
          "text": [
            "Pyt\n"
          ]
        }
      ]
    },
    {
      "cell_type": "code",
      "source": [
        "# 4. Write a code to convert the string \"hello\" to uppercase\n",
        "text= \"hello\"\n",
        "text_upper=text.upper()\n",
        "print(text_upper)"
      ],
      "metadata": {
        "colab": {
          "base_uri": "https://localhost:8080/"
        },
        "id": "f8cf4FWq9IPK",
        "outputId": "8f41a0d4-d170-4a56-c277-7447c9493177"
      },
      "execution_count": 5,
      "outputs": [
        {
          "output_type": "stream",
          "name": "stdout",
          "text": [
            "HELLO\n"
          ]
        }
      ]
    },
    {
      "cell_type": "code",
      "source": [
        "# 5. Write a code to replace the word \"apple\" with \"orange\" in the string \"I like apple\"\n",
        "text=\"I like apple\"\n",
        "new=text.replace(\"apple\",\"orange\")\n",
        "print(new)"
      ],
      "metadata": {
        "colab": {
          "base_uri": "https://localhost:8080/"
        },
        "id": "cTZWXD8m9XMW",
        "outputId": "d6a204dc-35b3-4823-8f7a-7ad7784fcf1f"
      },
      "execution_count": 6,
      "outputs": [
        {
          "output_type": "stream",
          "name": "stdout",
          "text": [
            "I like orange\n"
          ]
        }
      ]
    },
    {
      "cell_type": "code",
      "source": [
        "# 6. Write a code to create a list with numbers 1 to 5 and print it\n",
        "num=[1,2,3,4,5]\n",
        "print(num)"
      ],
      "metadata": {
        "colab": {
          "base_uri": "https://localhost:8080/"
        },
        "id": "qDjzCHCD-XQw",
        "outputId": "9ca4c23b-145e-4993-d6ba-56b60359dd50"
      },
      "execution_count": 8,
      "outputs": [
        {
          "output_type": "stream",
          "name": "stdout",
          "text": [
            "[1, 2, 3, 4, 5]\n"
          ]
        }
      ]
    },
    {
      "cell_type": "code",
      "source": [
        "# 7. Write a code to append the number 10 to the list [1, 2, 3, 4]\n",
        "num = [1, 2, 3, 4]\n",
        "num.append(10)\n",
        "print(num)\n"
      ],
      "metadata": {
        "colab": {
          "base_uri": "https://localhost:8080/"
        },
        "id": "ys2bj7wg-1JY",
        "outputId": "32cc8b98-1afe-4517-a7b2-50171d0bf5d7"
      },
      "execution_count": 9,
      "outputs": [
        {
          "output_type": "stream",
          "name": "stdout",
          "text": [
            "[1, 2, 3, 4, 10]\n"
          ]
        }
      ]
    },
    {
      "cell_type": "code",
      "source": [
        "# 8. Write a code to remove the number 3 from the list [1, 2, 3, 4, 5]\n",
        "\n",
        "num = [1, 2, 3, 4, 5]\n",
        "num.remove(3)\n",
        "print(num)\n"
      ],
      "metadata": {
        "colab": {
          "base_uri": "https://localhost:8080/"
        },
        "id": "M5fANDah_WHY",
        "outputId": "7e141e01-b2b8-41e0-fb70-4ba9c389bada"
      },
      "execution_count": 11,
      "outputs": [
        {
          "output_type": "stream",
          "name": "stdout",
          "text": [
            "[1, 2, 4, 5]\n"
          ]
        }
      ]
    },
    {
      "cell_type": "code",
      "source": [
        "# 9. Write a code to access the second element in the list ['a', 'b', 'c', 'd']\n",
        "\n",
        "elements = ['a', 'b', 'c', 'd']\n",
        "second_element = elements[1]\n",
        "print(second_element)\n"
      ],
      "metadata": {
        "colab": {
          "base_uri": "https://localhost:8080/"
        },
        "id": "y3BMo8l6_oXi",
        "outputId": "25f314a5-b79f-4e92-a543-17a1df7572f5"
      },
      "execution_count": 12,
      "outputs": [
        {
          "output_type": "stream",
          "name": "stdout",
          "text": [
            "b\n"
          ]
        }
      ]
    },
    {
      "cell_type": "code",
      "source": [
        "# 10. Write a code to reverse the list [10, 20, 30, 40, 50]\n",
        "\n",
        "num=[10, 20, 30, 40, 50]\n",
        "num.reverse()\n",
        "print(num)"
      ],
      "metadata": {
        "colab": {
          "base_uri": "https://localhost:8080/"
        },
        "id": "QTH0t_aB__N2",
        "outputId": "5bb4773d-bfc8-4bec-ce48-f5d7ac43a8a4"
      },
      "execution_count": 13,
      "outputs": [
        {
          "output_type": "stream",
          "name": "stdout",
          "text": [
            "[50, 40, 30, 20, 10]\n"
          ]
        }
      ]
    },
    {
      "cell_type": "code",
      "source": [
        "# 11. Write a code to create a tuple with the elements 100, 200, 300 and print it.\n",
        "\n",
        "code_tuple= (100,200,300)\n",
        "print(code_tuple)"
      ],
      "metadata": {
        "colab": {
          "base_uri": "https://localhost:8080/"
        },
        "id": "UFsJst1RASiP",
        "outputId": "20306c0b-5781-4dd6-ff7e-b6b602ce3b4b"
      },
      "execution_count": 14,
      "outputs": [
        {
          "output_type": "stream",
          "name": "stdout",
          "text": [
            "(100, 200, 300)\n"
          ]
        }
      ]
    },
    {
      "cell_type": "code",
      "source": [
        "# 12. Write a code to access the second-to-last element of the tuple ('red', 'green', 'blue', 'yellow')\n",
        "\n",
        "element_turple= (\"red\",\"green\",\"blue\",\"yellow\")\n",
        "second_last= element_turple[-2]\n",
        "print(second_last)"
      ],
      "metadata": {
        "colab": {
          "base_uri": "https://localhost:8080/"
        },
        "id": "XJ80kXcYAok1",
        "outputId": "47a9674c-5446-424c-b5a2-139fdbd5bd81"
      },
      "execution_count": 15,
      "outputs": [
        {
          "output_type": "stream",
          "name": "stdout",
          "text": [
            "blue\n"
          ]
        }
      ]
    },
    {
      "cell_type": "code",
      "source": [
        "#  13. Write a code to find the minimum number in the tuple (10, 20, 5, 15)\n",
        "\n",
        "num=(10,20,5,15)\n",
        "min_number=min(num)\n",
        "print(min_number)"
      ],
      "metadata": {
        "colab": {
          "base_uri": "https://localhost:8080/"
        },
        "id": "eDTQkBFuBUXK",
        "outputId": "866f004c-36c6-4ec9-a6d0-8dadd28a09ad"
      },
      "execution_count": 16,
      "outputs": [
        {
          "output_type": "stream",
          "name": "stdout",
          "text": [
            "5\n"
          ]
        }
      ]
    },
    {
      "cell_type": "code",
      "source": [
        "# 14. Write a code to find the index of the element \"cat\" in the tuple ('dog', 'cat', 'rabbit')\n",
        "\n",
        "my_turple= ('dog', 'cat', 'rabbit')\n",
        "cat_index=my_turple.index(\"cat\")\n",
        "print(cat_index)"
      ],
      "metadata": {
        "colab": {
          "base_uri": "https://localhost:8080/"
        },
        "id": "pOke67otBohN",
        "outputId": "5aa35883-3b81-4366-aba5-5a769349fa69"
      },
      "execution_count": 17,
      "outputs": [
        {
          "output_type": "stream",
          "name": "stdout",
          "text": [
            "1\n"
          ]
        }
      ]
    },
    {
      "cell_type": "code",
      "source": [
        "# 15. Write a code to create a tuple containing three different fruits and check if \"kiwi\" is in it.\n",
        "\n",
        "fruits = ('pineapple', 'banana', 'kiwi')\n",
        "kiwi_in_tuple = 'kiwi' in fruits\n",
        "print(kiwi_in_tuple)\n"
      ],
      "metadata": {
        "colab": {
          "base_uri": "https://localhost:8080/"
        },
        "id": "0H_-ZuEzCHnP",
        "outputId": "09fd8e34-58db-4185-a898-73422c931a0c"
      },
      "execution_count": 19,
      "outputs": [
        {
          "output_type": "stream",
          "name": "stdout",
          "text": [
            "True\n"
          ]
        }
      ]
    },
    {
      "cell_type": "code",
      "source": [
        "# 16.  Write a code to create a set with the elements 'a', 'b', 'c' and print it\n",
        "\n",
        "my_set = {'a', 'b', 'c'}\n",
        "print(my_set)\n"
      ],
      "metadata": {
        "colab": {
          "base_uri": "https://localhost:8080/"
        },
        "id": "D0ayMrmICf21",
        "outputId": "214f4256-1006-481a-83e2-736ece4d10f9"
      },
      "execution_count": 20,
      "outputs": [
        {
          "output_type": "stream",
          "name": "stdout",
          "text": [
            "{'c', 'b', 'a'}\n"
          ]
        }
      ]
    },
    {
      "cell_type": "code",
      "source": [
        "# 17. Write a code to clear all elements from the set {1, 2, 3, 4, 5}\n",
        "\n",
        "my_set= {1, 2, 3, 4, 5}\n",
        "my_set.clear()\n",
        "print(my_set)"
      ],
      "metadata": {
        "colab": {
          "base_uri": "https://localhost:8080/"
        },
        "id": "Fj_wbBeNCve_",
        "outputId": "b277e0dd-b86c-4a94-db71-f4e28244f16c"
      },
      "execution_count": 21,
      "outputs": [
        {
          "output_type": "stream",
          "name": "stdout",
          "text": [
            "set()\n"
          ]
        }
      ]
    },
    {
      "cell_type": "code",
      "source": [
        "# 18 . Write a code to remove the element 4 from the set {1, 2, 3, 4}\n",
        "\n",
        "my_set= {1, 2, 3, 4}\n",
        "my_set.remove(4)\n",
        "print(my_set)"
      ],
      "metadata": {
        "colab": {
          "base_uri": "https://localhost:8080/"
        },
        "id": "Eqsc8mBsDCBR",
        "outputId": "b3fbc082-032f-40ec-d29a-d2cae297ee2e"
      },
      "execution_count": 22,
      "outputs": [
        {
          "output_type": "stream",
          "name": "stdout",
          "text": [
            "{1, 2, 3}\n"
          ]
        }
      ]
    },
    {
      "cell_type": "code",
      "source": [
        "# 19. Write a code to find the union of two sets {1, 2, 3} and {3, 4, 5\n",
        "\n",
        "set1 = {1, 2, 3}\n",
        "set2 = {3, 4, 5}\n",
        "union_set = set1.union(set2)\n",
        "print(union_set)\n"
      ],
      "metadata": {
        "colab": {
          "base_uri": "https://localhost:8080/"
        },
        "id": "pOCHvy47DR3P",
        "outputId": "f58d3cbd-852e-4354-d952-2f0f6d3c64bd"
      },
      "execution_count": 23,
      "outputs": [
        {
          "output_type": "stream",
          "name": "stdout",
          "text": [
            "{1, 2, 3, 4, 5}\n"
          ]
        }
      ]
    },
    {
      "cell_type": "code",
      "source": [
        "# 20. Write a code to find the intersection of two sets {1, 2, 3} and {2, 3, 4}.\n",
        "\n",
        "set1 = {1, 2, 3}\n",
        "set2 = {2, 3, 4}\n",
        "inter_set=set1.intersection(set2)\n",
        "print(inter_set)"
      ],
      "metadata": {
        "colab": {
          "base_uri": "https://localhost:8080/"
        },
        "id": "vrTFULoLDhqF",
        "outputId": "a28d45e0-46ea-4a73-edfb-bf0c089bc6bc"
      },
      "execution_count": 24,
      "outputs": [
        {
          "output_type": "stream",
          "name": "stdout",
          "text": [
            "{2, 3}\n"
          ]
        }
      ]
    },
    {
      "cell_type": "code",
      "source": [
        "# 21. Write a code to create a dictionary with the keys \"name\", \"age\", and \"city\", and print it.\n",
        "\n",
        "person = {\"name\": \"Alice\",\"age\": 30,\"city\": \"New York\"}\n",
        "print(person)\n"
      ],
      "metadata": {
        "colab": {
          "base_uri": "https://localhost:8080/"
        },
        "id": "py_vDZ5bD1uO",
        "outputId": "de4ed8e1-e7d6-4bfa-9f6e-b09d61a96f8e"
      },
      "execution_count": 25,
      "outputs": [
        {
          "output_type": "stream",
          "name": "stdout",
          "text": [
            "{'name': 'Alice', 'age': 30, 'city': 'New York'}\n"
          ]
        }
      ]
    },
    {
      "cell_type": "code",
      "source": [
        "# 22. Write a code to add a new key-value pair \"country\": \"USA\" to the dictionary {'name': 'John', 'age': 25}\n",
        "\n",
        "person = {'name': 'John', 'age': 25}\n",
        "person['country'] = 'USA'\n",
        "print(person)\n",
        "\n"
      ],
      "metadata": {
        "colab": {
          "base_uri": "https://localhost:8080/"
        },
        "id": "jPjsPw5KEFc7",
        "outputId": "b9ddf1b5-ab6e-487c-ba08-7fd2edf09b5f"
      },
      "execution_count": 26,
      "outputs": [
        {
          "output_type": "stream",
          "name": "stdout",
          "text": [
            "{'name': 'John', 'age': 25, 'country': 'USA'}\n"
          ]
        }
      ]
    },
    {
      "cell_type": "code",
      "source": [
        "# 23. Write a code to access the value associated with the key \"name\" in the dictionary {'name': 'Alice', 'age': 30}\n",
        "\n",
        "person = {'name': 'Alice', 'age': 30}\n",
        "value = person['name']\n",
        "print(value)\n"
      ],
      "metadata": {
        "colab": {
          "base_uri": "https://localhost:8080/"
        },
        "id": "0KSrt9hKEZnO",
        "outputId": "deefd223-c016-4b83-d5c8-70776c2fa9a3"
      },
      "execution_count": 27,
      "outputs": [
        {
          "output_type": "stream",
          "name": "stdout",
          "text": [
            "Alice\n"
          ]
        }
      ]
    },
    {
      "cell_type": "code",
      "source": [
        "# 24. Write a code to remove the key \"age\" from the dictionary {'name': 'Bob', 'age': 22, 'city': 'New York'}.\n",
        "\n",
        "\n",
        "person = {'name': 'Bob', 'age': 22, 'city': 'New York'}\n",
        "person.pop('age')\n",
        "print(person)\n"
      ],
      "metadata": {
        "colab": {
          "base_uri": "https://localhost:8080/"
        },
        "id": "qMQ3vMKtE0Zv",
        "outputId": "c8de4839-5a8c-47b4-a2d1-59726971ca29"
      },
      "execution_count": 28,
      "outputs": [
        {
          "output_type": "stream",
          "name": "stdout",
          "text": [
            "{'name': 'Bob', 'city': 'New York'}\n"
          ]
        }
      ]
    },
    {
      "cell_type": "code",
      "source": [
        "# 25. Write a code to check if the key \"city\" exists in the dictionary {'name': 'Alice', 'city': 'Paris'}.\n",
        "\n",
        "person = {'name': 'Alice', 'city': 'Paris'}\n",
        "check_key = 'city' in person\n",
        "print(check_key)\n"
      ],
      "metadata": {
        "colab": {
          "base_uri": "https://localhost:8080/"
        },
        "id": "JUIDVq-IFEpz",
        "outputId": "12d66616-5a82-4d78-8f9d-1cd0083f893b"
      },
      "execution_count": 29,
      "outputs": [
        {
          "output_type": "stream",
          "name": "stdout",
          "text": [
            "True\n"
          ]
        }
      ]
    },
    {
      "cell_type": "code",
      "source": [
        "# 26. Write a code to create a list, a tuple, and a dictionary, and print them all\n",
        "\n",
        "create_list = [1, 2, 3]\n",
        "create_tuple = ('a', 'b', 'c')\n",
        "\n",
        "create_dict = {'name': 'Alice', 'age': 25}\n",
        "print(create_list)\n",
        "print(create_tuple)\n",
        "print(create_dict)\n"
      ],
      "metadata": {
        "colab": {
          "base_uri": "https://localhost:8080/"
        },
        "id": "O8JbLlk4FYxH",
        "outputId": "6af4f78b-b012-496b-c344-3d6f068eb497"
      },
      "execution_count": 31,
      "outputs": [
        {
          "output_type": "stream",
          "name": "stdout",
          "text": [
            "[1, 2, 3]\n",
            "('a', 'b', 'c')\n",
            "{'name': 'Alice', 'age': 25}\n"
          ]
        }
      ]
    },
    {
      "cell_type": "code",
      "source": [
        "# 27. Write a code to create a list of 5 random numbers between 1 and 100, sort it in ascending order, and print the result.(replaced)\n",
        "\n",
        "import random\n",
        "random_numbers = [random.randint(1, 100) for _ in range(5)]\n",
        "random_numbers.sort()\n",
        "print(random_numbers)\n"
      ],
      "metadata": {
        "colab": {
          "base_uri": "https://localhost:8080/"
        },
        "id": "-OATyMZsF-aI",
        "outputId": "4a43d404-70dd-450b-ce73-7ecdb40bc61e"
      },
      "execution_count": 1,
      "outputs": [
        {
          "output_type": "stream",
          "name": "stdout",
          "text": [
            "[19, 47, 51, 65, 81]\n"
          ]
        }
      ]
    },
    {
      "cell_type": "code",
      "source": [
        "# 28. Write a code to create a list with strings and print the element at the third index\n",
        "\n",
        "words= [\"ramu\",\"Shaymu\",\"Sonu\",\"Monu\"]\n",
        "print(words[3])"
      ],
      "metadata": {
        "colab": {
          "base_uri": "https://localhost:8080/"
        },
        "id": "evnGqxfXX1rU",
        "outputId": "6f59cb94-1bfe-449b-9d15-33078079657d"
      },
      "execution_count": 2,
      "outputs": [
        {
          "output_type": "stream",
          "name": "stdout",
          "text": [
            "Monu\n"
          ]
        }
      ]
    },
    {
      "cell_type": "code",
      "source": [
        "# 29. Write a code to combine two dictionaries into one and print the result.\n",
        "\n",
        "dict1 = {'a': 1, 'b': 2}\n",
        "dict2 = {'c': 3, 'd': 4}\n",
        "combined_dict = {**dict1, **dict2}\n",
        "\n",
        "print(combined_dict)\n"
      ],
      "metadata": {
        "colab": {
          "base_uri": "https://localhost:8080/"
        },
        "id": "wP_oKAtFYTgT",
        "outputId": "f5dcabb5-9fc2-4803-8499-c651f536dda4"
      },
      "execution_count": 3,
      "outputs": [
        {
          "output_type": "stream",
          "name": "stdout",
          "text": [
            "{'a': 1, 'b': 2, 'c': 3, 'd': 4}\n"
          ]
        }
      ]
    },
    {
      "cell_type": "code",
      "source": [
        "# 30. Write a code to convert a list of strings into a set.\n",
        "\n",
        "s_list = [\"apple\", \"banana\", \"cherry\", \"apple\"]\n",
        "s_set = set(s_list)\n",
        "print(s_set)\n"
      ],
      "metadata": {
        "colab": {
          "base_uri": "https://localhost:8080/"
        },
        "id": "6gYCqlAAYktT",
        "outputId": "3b17e02d-cecb-4a3c-bc77-2e99c66f7094"
      },
      "execution_count": 4,
      "outputs": [
        {
          "output_type": "stream",
          "name": "stdout",
          "text": [
            "{'cherry', 'banana', 'apple'}\n"
          ]
        }
      ]
    }
  ]
}